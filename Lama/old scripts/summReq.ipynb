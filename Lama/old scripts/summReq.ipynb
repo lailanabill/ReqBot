{
 "cells": [
  {
   "cell_type": "code",
   "execution_count": 35,
   "id": "5576bb3b",
   "metadata": {},
   "outputs": [
    {
     "name": "stdout",
     "output_type": "stream",
     "text": [
      "✅ Success:\n",
      "{'summary': \"**Meeting Summary**\\n\\n**Task Management**\\n\\n* The task management API is mostly complete, with endpoints for creating, editing, and deleting tasks (Ahmed).\\n* The endpoint to assign tasks to multiple users and include deadline tracking is still in progress (Ahmed).\\n* Refactoring was done to make the code more modular and reusable, especially for error handling (Ahmed).\\n\\n**Notifications**\\n\\n* User notification system integration is complete (Lina).\\n* Decision made: allow both push notifications for due tasks and in-app messages in the user's notification center (Sarah).\\n* User preferences are needed to toggle push notifications; Noor will design a settings page with options for enabling/disabling push notifications, daily summaries, and activity alerts.\\n\\n**UX and Performance**\\n\\n* The task list UI is finished, with filtering by date, priority, and status implemented (Lina).\\n* Issue with rendering assigned users' avatars dynamically when there are more than five users on one task; Lina will optimize the layout for that.\\n* Confirmation prompts will be standardized using the new modal component to reduce inconsistencies across different modules (Noor).\\n* The bulk delete action needs a safeguard to prevent bypassing the confirmation prompt, especially with high network latency (Omar); Ahmed will add a filter to exclude deactivated accounts from the assignment API response.\\n\\n**Quality Assurance**\\n\\n* Regression testing revealed issues with the bulk delete action sometimes bypassing the confirmation prompt and assigning a task to a deactivated user not triggering validation (Omar).\\n* Safeguard needed for bulk delete action; Lina will disable the frontend dropdown entry as a backup.\\n* Some toast notifications are disappearing too quickly before users can read them, especially on slower machines; Noor suggests increasing the default timeout for toasts and pausing when hovered.\\n\\n**Project Management**\\n\\n* Sprint planning: finalize task management module and improve user notification system (Sarah).\\n* Jira updates: update tasks and dependencies.\\n* Meeting goal: finish all blockers by Wednesday so the new sprint can start clean (Sarah).\\n\\n**Technical Updates**\\n\\n* Localization: strings for task and notification modules have been externalized, ready to be translated; Ahmed added language headers to API responses for serving localized error messages.\\n* Dark mode: Lina has created base styles and variables; Noor will finalize color palette and send it today.\\n\\n**Assigned Actions**\\n\\n* Ahmed: add a filter to exclude deactivated accounts from the assignment API response.\\n* Lina: disable frontend dropdown entry, optimize layout for rendering assigned users' avatars dynamically.\\n* Noor: design settings page with options for user preferences (push notifications, daily summaries, activity alerts), finalize color palette for dark mode.\\n* Omar: test bulk delete action safeguard and assign task to deactivated user validation.\\n\\n\"}\n"
     ]
    }
   ],
   "source": [
    "import requests\n",
    "\n",
    "url = \"http://192.168.1.4:11435/summarize/\"  # change to your FastAPI server URL\n",
    "# url = \"https://ollama-sum-st-1016128810332.us-central1.run.app/summarize/\"  # change to your FastAPI server URL\n",
    "\n",
    "data = {\n",
    "    \n",
    "    'text':\"\"\"\n",
    "    Sarah (Project Manager): Good morning, everyone. Let’s begin our sprint planning and review. The main focus of this sprint is finalizing the task management module and improving the user notification system. We also need to address the feedback we got from our internal QA last week.Ahmed (Backend Developer): On my end, the task management API is mostly done. The endpoints for creating, editing, and deleting tasks are complete. I’m still working on the endpoint to assign tasks to multiple users and include deadline tracking. I had to refactor some code to make it more modular and reusable, especially for error handling.Lina (Frontend Developer): The task list UI is finished, and task filtering by date, priority, and status is implemented. However, I’m facing an issue with rendering assigned users' avatars dynamically when there are more than five users on one task. I’ll need to optimize the layout for that. Also, I’m working on converting all task actions to modals for better UX consistency.Omar (QA Engineer): Just a heads up — during regression testing, I found that the bulk delete action is bypassing the confirmation prompt sometimes, especially when network latency is high. It needs a safeguard. Also, assigning a task to a deactivated user doesn’t trigger any validation.Noor (UX Designer): Regarding the confirmation issue, I suggest we standardize all confirmation prompts with our new modal component and have them await confirmation explicitly. That should help reduce inconsistencies across different modules.Sarah: Good catch. Let’s prioritize fixing the bulk delete issue. Also, for deactivated users, can we prevent their names from even showing in the assignment dropdown?Ahmed: Yes, I’ll add a filter to exclude deactivated accounts from the assignment API response. Should be a quick fix.Lina: That works. I’ll also disable the frontend dropdown entry as a backup.Omar: Another thing — some of the toast notifications are disappearing too quickly before users can read them, especially on slower machines.Noor: I’ve had the same complaint from the UX review. We can increase the default timeout for toasts and make sure they pause when hovered.Sarah: Good. Let’s also document those toast behavior changes. We don’t want this to get lost in future sprints.Lina: I also want to mention the user notification system. I’ve integrated the new backend endpoints, but we need a decision on whether to allow push notifications for due tasks or only show them inside the dashboard.Ahmed: The backend supports both now — we can send push notifications using Firebase and store in-app messages in the user’s notification center.Sarah: Let’s go with both. But we need user preferences so they can toggle them.Noor: I’ll design a settings page where users can enable or disable push notifications, daily summaries, and activity alerts. I’ll share the prototype this afternoon.Sarah: Sounds good. What about performance concerns for users with thousands of notifications?Ahmed: I already added pagination and lazy loading on the notifications endpoint. But we can also auto-archive older notifications after 30 days unless they’re marked as important.Omar: Just make sure there’s a way for users to retrieve archived notifications if needed.Sarah: Great point. Let’s add an \"Archived\" tab in the notification center for now.Lina: I’ll take care of that in the UI.Sarah: Any updates on localization?Ahmed: We’ve externalized all strings for the task and notification modules. They're ready to be translated. I’ve also added language headers to API responses so we can serve localized error messages.Noor: I’ll sync with the translation vendor today and share progress by Friday.Sarah: One last thing. The client asked if we could support dark mode by next release.Lina: I’ve already created the base styles and variables for it. I just need Noor to finalize the color palette.Noor: It’s almost done. I’ll send it today.Sarah: Amazing. Let’s aim to finish all blockers by Wednesday so we can start the new sprint clean. Please update Jira and tag any dependencies. Thanks, everyone!All: Thanks, Sarah.\n",
    "    \"\"\"\n",
    "}\n",
    "\n",
    "response = requests.post(url, json=data)\n",
    "\n",
    "if response.status_code == 200:\n",
    "    print(\"✅ Success:\")\n",
    "    print(response.json())\n",
    "else:\n",
    "    print(\"❌ Error:\")\n",
    "    print(response.status_code, response.text)\n"
   ]
  },
  {
   "cell_type": "code",
   "execution_count": 36,
   "id": "78d5626e",
   "metadata": {},
   "outputs": [
    {
     "data": {
      "text/plain": [
       "\"**Meeting Summary**\\n\\n**Task Management**\\n\\n* The task management API is mostly complete, with endpoints for creating, editing, and deleting tasks (Ahmed).\\n* The endpoint to assign tasks to multiple users and include deadline tracking is still in progress (Ahmed).\\n* Refactoring was done to make the code more modular and reusable, especially for error handling (Ahmed).\\n\\n**Notifications**\\n\\n* User notification system integration is complete (Lina).\\n* Decision made: allow both push notifications for due tasks and in-app messages in the user's notification center (Sarah).\\n* User preferences are needed to toggle push notifications; Noor will design a settings page with options for enabling/disabling push notifications, daily summaries, and activity alerts.\\n\\n**UX and Performance**\\n\\n* The task list UI is finished, with filtering by date, priority, and status implemented (Lina).\\n* Issue with rendering assigned users' avatars dynamically when there are more than five users on one task; Lina will optimize the layout for that.\\n* Confirmation prompts will be standardized using the new modal component to reduce inconsistencies across different modules (Noor).\\n* The bulk delete action needs a safeguard to prevent bypassing the confirmation prompt, especially with high network latency (Omar); Ahmed will add a filter to exclude deactivated accounts from the assignment API response.\\n\\n**Quality Assurance**\\n\\n* Regression testing revealed issues with the bulk delete action sometimes bypassing the confirmation prompt and assigning a task to a deactivated user not triggering validation (Omar).\\n* Safeguard needed for bulk delete action; Lina will disable the frontend dropdown entry as a backup.\\n* Some toast notifications are disappearing too quickly before users can read them, especially on slower machines; Noor suggests increasing the default timeout for toasts and pausing when hovered.\\n\\n**Project Management**\\n\\n* Sprint planning: finalize task management module and improve user notification system (Sarah).\\n* Jira updates: update tasks and dependencies.\\n* Meeting goal: finish all blockers by Wednesday so the new sprint can start clean (Sarah).\\n\\n**Technical Updates**\\n\\n* Localization: strings for task and notification modules have been externalized, ready to be translated; Ahmed added language headers to API responses for serving localized error messages.\\n* Dark mode: Lina has created base styles and variables; Noor will finalize color palette and send it today.\\n\\n**Assigned Actions**\\n\\n* Ahmed: add a filter to exclude deactivated accounts from the assignment API response.\\n* Lina: disable frontend dropdown entry, optimize layout for rendering assigned users' avatars dynamically.\\n* Noor: design settings page with options for user preferences (push notifications, daily summaries, activity alerts), finalize color palette for dark mode.\\n* Omar: test bulk delete action safeguard and assign task to deactivated user validation.\\n\\n\""
      ]
     },
     "execution_count": 36,
     "metadata": {},
     "output_type": "execute_result"
    }
   ],
   "source": [
    "summ = response.json()['summary']\n",
    "summ"
   ]
  },
  {
   "cell_type": "code",
   "execution_count": 18,
   "id": "d4be68f4",
   "metadata": {},
   "outputs": [
    {
     "name": "stdout",
     "output_type": "stream",
     "text": [
      "✅ Success:\n",
      "{'requirements': 'Here are the extracted requirements:\\n\\nFunctional Requirements:\\n1) The system should allow for creating, editing, and deleting tasks.\\n2) The system should enable assigning tasks to multiple users and include deadline tracking.\\n3) The system should provide a task list UI with filtering options by date, priority, and status.\\n4) The system should render assigned users\\' avatars dynamically when there are more than five users on one task.\\n5) The system should allow push notifications for due tasks and store in-app messages in the user\\'s notification center.\\n6) The system should provide a settings page to toggle push notifications, daily summaries, and activity alerts.\\n\\nNon-Functional Requirements:\\n1) The system should have pagination and lazy loading on the notifications endpoint.\\n2) The system should auto-archive older notifications after 30 days unless they\\'re marked as important and add an \"Archived\" tab in the notification center.\\n3) The system should ensure users can retrieve archived notifications if needed.\\n4) The system should provide localized error messages using language headers in API responses.\\n5) The system should support dark mode with a finalized color palette.\\n\\nNote: Some requirements may have been implied or mentioned indirectly, but I\\'ve tried to capture the essence of what was discussed during the meeting.\\n\\n'}\n"
     ]
    }
   ],
   "source": [
    "import requests\n",
    "url = \"http://192.168.1.4:11435/reqs/\"  # change to your FastAPI server URL\n",
    "# url = \"https://ollama-sum-st-1016128810332.us-central1.run.app/summarize/\"  # change to your FastAPI server URL\n",
    "data = {\n",
    "    \n",
    "    'text':summ\n",
    "    # \"\"\"\n",
    "    # Sarah (Project Manager): Good morning, everyone. Let’s begin our sprint planning and review. The main focus of this sprint is finalizing the task management module and improving the user notification system. We also need to address the feedback we got from our internal QA last week.Ahmed (Backend Developer): On my end, the task management API is mostly done. The endpoints for creating, editing, and deleting tasks are complete. I’m still working on the endpoint to assign tasks to multiple users and include deadline tracking. I had to refactor some code to make it more modular and reusable, especially for error handling.Lina (Frontend Developer): The task list UI is finished, and task filtering by date, priority, and status is implemented. However, I’m facing an issue with rendering assigned users' avatars dynamically when there are more than five users on one task. I’ll need to optimize the layout for that. Also, I’m working on converting all task actions to modals for better UX consistency.Omar (QA Engineer): Just a heads up — during regression testing, I found that the bulk delete action is bypassing the confirmation prompt sometimes, especially when network latency is high. It needs a safeguard. Also, assigning a task to a deactivated user doesn’t trigger any validation.Noor (UX Designer): Regarding the confirmation issue, I suggest we standardize all confirmation prompts with our new modal component and have them await confirmation explicitly. That should help reduce inconsistencies across different modules.Sarah: Good catch. Let’s prioritize fixing the bulk delete issue. Also, for deactivated users, can we prevent their names from even showing in the assignment dropdown?Ahmed: Yes, I’ll add a filter to exclude deactivated accounts from the assignment API response. Should be a quick fix.Lina: That works. I’ll also disable the frontend dropdown entry as a backup.Omar: Another thing — some of the toast notifications are disappearing too quickly before users can read them, especially on slower machines.Noor: I’ve had the same complaint from the UX review. We can increase the default timeout for toasts and make sure they pause when hovered.Sarah: Good. Let’s also document those toast behavior changes. We don’t want this to get lost in future sprints.Lina: I also want to mention the user notification system. I’ve integrated the new backend endpoints, but we need a decision on whether to allow push notifications for due tasks or only show them inside the dashboard.Ahmed: The backend supports both now — we can send push notifications using Firebase and store in-app messages in the user’s notification center.Sarah: Let’s go with both. But we need user preferences so they can toggle them.Noor: I’ll design a settings page where users can enable or disable push notifications, daily summaries, and activity alerts. I’ll share the prototype this afternoon.Sarah: Sounds good. What about performance concerns for users with thousands of notifications?Ahmed: I already added pagination and lazy loading on the notifications endpoint. But we can also auto-archive older notifications after 30 days unless they’re marked as important.Omar: Just make sure there’s a way for users to retrieve archived notifications if needed.Sarah: Great point. Let’s add an \"Archived\" tab in the notification center for now.Lina: I’ll take care of that in the UI.Sarah: Any updates on localization?Ahmed: We’ve externalized all strings for the task and notification modules. They're ready to be translated. I’ve also added language headers to API responses so we can serve localized error messages.Noor: I’ll sync with the translation vendor today and share progress by Friday.Sarah: One last thing. The client asked if we could support dark mode by next release.Lina: I’ve already created the base styles and variables for it. I just need Noor to finalize the color palette.Noor: It’s almost done. I’ll send it today.Sarah: Amazing. Let’s aim to finish all blockers by Wednesday so we can start the new sprint clean. Please update Jira and tag any dependencies. Thanks, everyone!All: Thanks, Sarah.\n",
    "    # \"\"\"\n",
    "}\n",
    "\n",
    "response = requests.post(url, json=data)\n",
    "\n",
    "if response.status_code == 200:\n",
    "    print(\"✅ Success:\")\n",
    "    print(response.json())\n",
    "else:\n",
    "    print(\"❌ Error:\")\n",
    "    print(response.status_code, response.text)"
   ]
  },
  {
   "cell_type": "code",
   "execution_count": 19,
   "id": "caf63483",
   "metadata": {},
   "outputs": [
    {
     "data": {
      "text/plain": [
       "'Here are the extracted requirements:\\n\\nFunctional Requirements:\\n1) The system should allow for creating, editing, and deleting tasks.\\n2) The system should enable assigning tasks to multiple users and include deadline tracking.\\n3) The system should provide a task list UI with filtering options by date, priority, and status.\\n4) The system should render assigned users\\' avatars dynamically when there are more than five users on one task.\\n5) The system should allow push notifications for due tasks and store in-app messages in the user\\'s notification center.\\n6) The system should provide a settings page to toggle push notifications, daily summaries, and activity alerts.\\n\\nNon-Functional Requirements:\\n1) The system should have pagination and lazy loading on the notifications endpoint.\\n2) The system should auto-archive older notifications after 30 days unless they\\'re marked as important and add an \"Archived\" tab in the notification center.\\n3) The system should ensure users can retrieve archived notifications if needed.\\n4) The system should provide localized error messages using language headers in API responses.\\n5) The system should support dark mode with a finalized color palette.\\n\\nNote: Some requirements may have been implied or mentioned indirectly, but I\\'ve tried to capture the essence of what was discussed during the meeting.\\n\\n'"
      ]
     },
     "execution_count": 19,
     "metadata": {},
     "output_type": "execute_result"
    }
   ],
   "source": [
    "response.json()['requirements']"
   ]
  },
  {
   "cell_type": "code",
   "execution_count": null,
   "id": "8785d4ce",
   "metadata": {},
   "outputs": [],
   "source": [
    "f\"\"\"\"\n",
    "                You are a software requirements analyst.\n",
    "\n",
    "    Given the following meeting , extract all the Requirements mentioned directly on indirectly.\n",
    "\n",
    "    Requirements describe what the system should do (e.g., features, user actions, APIs, UI behavior).\n",
    "\n",
    "    Or describe how the system should perform (e.g., performance, security, usability, reliability).\n",
    "    \n",
    "    Keep in mind you need to focus on the requirements that are derived from the discussion during the meeting, that some of them may not be explicitly stated but can be inferred as necessary features or behaviors\n",
    "    \n",
    "    Note that : that if get the same meeting transcript i need the same output every time.\n",
    "\n",
    "    Please organize the output clearly using the following format :\n",
    "\n",
    "    Requirements:\n",
    "\n",
    "    1. \"...\"\n",
    "\n",
    "    2. \"...\"\n",
    "\n",
    "\n",
    "\n",
    "    Meeting transcription:\n",
    "    Sarah (Project Manager): Good morning, everyone. Let’s begin our sprint planning and review. The main focus of this sprint is finalizing the task management module and improving the user notification system. We also need to address the feedback we got from our internal QA last week.Ahmed (Backend Developer): On my end, the task management API is mostly done. The endpoints for creating, editing, and deleting tasks are complete. I’m still working on the endpoint to assign tasks to multiple users and include deadline tracking. I had to refactor some code to make it more modular and reusable, especially for error handling.Lina (Frontend Developer): The task list UI is finished, and task filtering by date, priority, and status is implemented. However, I’m facing an issue with rendering assigned users' avatars dynamically when there are more than five users on one task. I’ll need to optimize the layout for that. Also, I’m working on converting all task actions to modals for better UX consistency.Omar (QA Engineer): Just a heads up — during regression testing, I found that the bulk delete action is bypassing the confirmation prompt sometimes, especially when network latency is high. It needs a safeguard. Also, assigning a task to a deactivated user doesn’t trigger any validation.Noor (UX Designer): Regarding the confirmation issue, I suggest we standardize all confirmation prompts with our new modal component and have them await confirmation explicitly. That should help reduce inconsistencies across different modules.Sarah: Good catch. Let’s prioritize fixing the bulk delete issue. Also, for deactivated users, can we prevent their names from even showing in the assignment dropdown?Ahmed: Yes, I’ll add a filter to exclude deactivated accounts from the assignment API response. Should be a quick fix.Lina: That works. I’ll also disable the frontend dropdown entry as a backup.Omar: Another thing — some of the toast notifications are disappearing too quickly before users can read them, especially on slower machines.Noor: I’ve had the same complaint from the UX review. We can increase the default timeout for toasts and make sure they pause when hovered.Sarah: Good. Let’s also document those toast behavior changes. We don’t want this to get lost in future sprints.Lina: I also want to mention the user notification system. I’ve integrated the new backend endpoints, but we need a decision on whether to allow push notifications for due tasks or only show them inside the dashboard.Ahmed: The backend supports both now — we can send push notifications using Firebase and store in-app messages in the user’s notification center.Sarah: Let’s go with both. But we need user preferences so they can toggle them.Noor: I’ll design a settings page where users can enable or disable push notifications, daily summaries, and activity alerts. I’ll share the prototype this afternoon.Sarah: Sounds good. What about performance concerns for users with thousands of notifications?Ahmed: I already added pagination and lazy loading on the notifications endpoint. But we can also auto-archive older notifications after 30 days unless they’re marked as important.Omar: Just make sure there’s a way for users to retrieve archived notifications if needed.Sarah: Great point. Let’s add an \"Archived\" tab in the notification center for now.Lina: I’ll take care of that in the UI.Sarah: Any updates on localization?Ahmed: We’ve externalized all strings for the task and notification modules. They're ready to be translated. I’ve also added language headers to API responses so we can serve localized error messages.Noor: I’ll sync with the translation vendor today and share progress by Friday.Sarah: One last thing. The client asked if we could support dark mode by next release.Lina: I’ve already created the base styles and variables for it. I just need Noor to finalize the color palette.Noor: It’s almost done. I’ll send it today.Sarah: Amazing. Let’s aim to finish all blockers by Wednesday so we can start the new sprint clean. Please update Jira and tag any dependencies. Thanks, everyone!All: Thanks, Sarah.\n",
    "    \n",
    "    \"\"\""
   ]
  },
  {
   "cell_type": "code",
   "execution_count": null,
   "id": "2d91fe10",
   "metadata": {},
   "outputs": [],
   "source": [
    "\"\"\"\n",
    "You are a software requirements analyst. Below is the transcript of a software meeting. Your task is to:\n",
    "1) First, summarize the meeting by extracting key decisions, tasks, and action items discussed by the participants. Focus on **functional** and **non-functional** system aspects.\n",
    "2) Then, extract all the **functional** and **non-functional requirements** mentioned directly or indirectly in the meeting transcript. A requirement describes what the system should do (e.g., features, user actions, APIs, UI behavior) or how the system should perform (e.g., performance, security, usability, reliability).\n",
    "\n",
    "Please provide the meeting summary first in bullet points, followed by the extracted requirements using the following format:\n",
    "\n",
    "**Meeting Summary:**\n",
    "- Key decisions and actions discussed, focused on system aspects\n",
    "- Focus on **functional** and **non-functional** requirements\n",
    "\n",
    "**Functional Requirements:**\n",
    "1) \"...\"\n",
    "2) \"...\"\n",
    "...\n",
    "\n",
    "**Non-Functional Requirements:**\n",
    "1) \"...\"\n",
    "2) \"...\"\n",
    "...\n",
    "  \n",
    "Transcript:\n",
    "{meeting_text}\n",
    "\n",
    "\"\"\""
   ]
  },
  {
   "cell_type": "code",
   "execution_count": null,
   "id": "b1000446",
   "metadata": {},
   "outputs": [
    {
     "name": "stdout",
     "output_type": "stream",
     "text": [
      "✅ Success:\n",
      "{'sum': 'Here are the extracted requirements:\\n\\n**Functional Requirements:**\\n\\nF1) The system should support creating, editing, and deleting tasks with endpoints for each action.\\nF2) The system should allow assigning tasks to multiple users and include deadline tracking.\\nF3) The system should enable filtering of task lists by date, priority, and status.\\nF4) The system should render assigned users\\' avatars dynamically when there are more than five users on one task.\\nF5) The system should standardize confirmation prompts using the new modal component to reduce inconsistencies across different modules.\\nF6) The system should support bulk delete action with a safeguard to prevent bypassing the confirmation prompt, especially with high network latency.\\nF7) The system should allow push notifications for due tasks and in-app messages in the user\\'s notification center.\\nF8) The system should provide user preferences for toggling push notifications, daily summaries, and activity alerts.\\nF9) The system should enable users to retrieve archived notifications if needed.\\nF10) The system should support dark mode by next release.\\n\\n**Non-Functional Requirements:**\\n\\nNF1) The system should perform well with pagination and lazy loading on the notifications endpoint.\\nNF2) The system should ensure performance for users with thousands of notifications, with auto-archiving older notifications after 30 days unless they\\'re marked as important.\\nNF3) The system should have a safeguard to prevent bypassing the confirmation prompt during bulk delete action, especially with high network latency.\\nNF4) The system should prioritize user experience by providing an \"Archived\" tab in the notification center for retrieving archived notifications.\\n\\nNote: Some requirements may cover both functional and non-functional aspects, which is why I\\'ve listed them accordingly.\\n\\n'}\n"
     ]
    }
   ],
   "source": [
    "import requests\n",
    "url = \"http://192.168.1.4:8080/reqsneww/\"  # change to your FastAPI server URL\n",
    "# url = \"https://ollama-sum-st-1016128810332.us-central1.run.app/summarize/\"  # change to your FastAPI server URL\n",
    "data = {\n",
    "    \n",
    "    'summ':summ,\n",
    "    'orig':\n",
    "    \"\"\"\n",
    "    Sarah (Project Manager): Good morning, everyone. Let’s begin our sprint planning and review. The main focus of this sprint is finalizing the task management module and improving the user notification system. We also need to address the feedback we got from our internal QA last week.Ahmed (Backend Developer): On my end, the task management API is mostly done. The endpoints for creating, editing, and deleting tasks are complete. I’m still working on the endpoint to assign tasks to multiple users and include deadline tracking. I had to refactor some code to make it more modular and reusable, especially for error handling.Lina (Frontend Developer): The task list UI is finished, and task filtering by date, priority, and status is implemented. However, I’m facing an issue with rendering assigned users' avatars dynamically when there are more than five users on one task. I’ll need to optimize the layout for that. Also, I’m working on converting all task actions to modals for better UX consistency.Omar (QA Engineer): Just a heads up — during regression testing, I found that the bulk delete action is bypassing the confirmation prompt sometimes, especially when network latency is high. It needs a safeguard. Also, assigning a task to a deactivated user doesn’t trigger any validation.Noor (UX Designer): Regarding the confirmation issue, I suggest we standardize all confirmation prompts with our new modal component and have them await confirmation explicitly. That should help reduce inconsistencies across different modules.Sarah: Good catch. Let’s prioritize fixing the bulk delete issue. Also, for deactivated users, can we prevent their names from even showing in the assignment dropdown?Ahmed: Yes, I’ll add a filter to exclude deactivated accounts from the assignment API response. Should be a quick fix.Lina: That works. I’ll also disable the frontend dropdown entry as a backup.Omar: Another thing — some of the toast notifications are disappearing too quickly before users can read them, especially on slower machines.Noor: I’ve had the same complaint from the UX review. We can increase the default timeout for toasts and make sure they pause when hovered.Sarah: Good. Let’s also document those toast behavior changes. We don’t want this to get lost in future sprints.Lina: I also want to mention the user notification system. I’ve integrated the new backend endpoints, but we need a decision on whether to allow push notifications for due tasks or only show them inside the dashboard.Ahmed: The backend supports both now — we can send push notifications using Firebase and store in-app messages in the user’s notification center.Sarah: Let’s go with both. But we need user preferences so they can toggle them.Noor: I’ll design a settings page where users can enable or disable push notifications, daily summaries, and activity alerts. I’ll share the prototype this afternoon.Sarah: Sounds good. What about performance concerns for users with thousands of notifications?Ahmed: I already added pagination and lazy loading on the notifications endpoint. But we can also auto-archive older notifications after 30 days unless they’re marked as important.Omar: Just make sure there’s a way for users to retrieve archived notifications if needed.Sarah: Great point. Let’s add an \"Archived\" tab in the notification center for now.Lina: I’ll take care of that in the UI.Sarah: Any updates on localization?Ahmed: We’ve externalized all strings for the task and notification modules. They're ready to be translated. I’ve also added language headers to API responses so we can serve localized error messages.Noor: I’ll sync with the translation vendor today and share progress by Friday.Sarah: One last thing. The client asked if we could support dark mode by next release.Lina: I’ve already created the base styles and variables for it. I just need Noor to finalize the color palette.Noor: It’s almost done. I’ll send it today.Sarah: Amazing. Let’s aim to finish all blockers by Wednesday so we can start the new sprint clean. Please update Jira and tag any dependencies. Thanks, everyone!All: Thanks, Sarah.\n",
    "    \"\"\"\n",
    "}\n",
    "\n",
    "response = requests.post(url, json=data)\n",
    "\n",
    "if response.status_code == 200:\n",
    "    print(\"✅ Success:\")\n",
    "    print(response.json())\n",
    "else:\n",
    "    print(\"❌ Error:\")\n",
    "    print(response.status_code, response.text)"
   ]
  },
  {
   "cell_type": "code",
   "execution_count": null,
   "id": "6c853f4b",
   "metadata": {},
   "outputs": [
    {
     "data": {
      "text/plain": [
       "\"Here are the requirements extracted from the meeting transcription:\\n\\n**Functional Requirements:**\\n\\n1) The task management module should have endpoints for creating, editing, and deleting tasks.\\n2) The task list UI should allow filtering by date, priority, and status.\\n3) The system should render assigned users' avatars dynamically when there are more than five users on one task.\\n4) The bulk delete action should prompt for confirmation before deleting multiple tasks.\\n5) The system should prevent assigning a task to a deactivated user.\\n6) The notification system should allow push notifications for due tasks and store in-app messages in the user's notification center.\\n7) The system should have user preferences to toggle push notifications, daily summaries, and activity alerts.\\n8) The system should support both push notifications using Firebase and in-app messages.\\n\\n**Non-Functional Requirements:**\\n\\n1) The task management module should have performance improvements for users with thousands of notifications, including pagination and lazy loading on the notifications endpoint.\\n2) The notification system should increase the default timeout for toast notifications and make them pause when hovered.\\n3) The system should ensure that archived notifications can be retrieved if needed.\\n4) The localization efforts should include translating all strings for the task and notification modules, and serving localized error messages through language headers on API responses.\\n5) The dark mode support should allow users to toggle it in their settings.\\n\\nNote: Some requirements may overlap between functional and non-functional categories, but I've listed them according to the primary aspect they address.\\n\\n\""
      ]
     },
     "execution_count": 25,
     "metadata": {},
     "output_type": "execute_result"
    }
   ],
   "source": [
    "# under investigation prompt \n",
    "\n",
    "\"\"\"\"\n",
    "You are a senior software business analyst. I will give you a sprint planning meeting transcript. Your task is to extract both functional and non-functional software requirements **based on actual work items, feedback, and team discussions**.\n",
    "\n",
    "Please focus on extracting requirements related to the following themes discussed in the meeting:\n",
    "- Task management features (creation, editing, deleting, assignment, filtering, etc.)\n",
    "- User interface behavior and improvements (modals, avatars, dropdowns, confirmations)\n",
    "- Notification system (in-app, push notifications, user preferences, archiving, pagination)\n",
    "- User settings and preferences\n",
    "- Localization and internationalization\n",
    "- Dark mode and UI theming\n",
    "- UX consistency and usability\n",
    "- Performance, reliability, and scalability of APIs and UI components\n",
    "- Maintainability of backend code and error handling\n",
    "\n",
    "**Your output must contain two sections:**\n",
    "\n",
    "1. **Functional Requirements**  \n",
    "   - These should describe specific system behaviors and functionalities discussed in the meeting (e.g., \"The system shall...\").  \n",
    "   - Present them as a numbered list.\n",
    "\n",
    "2. **Non-Functional Requirements**  \n",
    "   - These should describe how the system should perform or behave (e.g., performance, usability, scalability).  \n",
    "   - Present them as a numbered list as well.\n",
    "\n",
    "Here is the sprint meeting transcript:\n",
    "\n",
    "\"\"\""
   ]
  }
 ],
 "metadata": {
  "kernelspec": {
   "display_name": "Python 3",
   "language": "python",
   "name": "python3"
  },
  "language_info": {
   "codemirror_mode": {
    "name": "ipython",
    "version": 3
   },
   "file_extension": ".py",
   "mimetype": "text/x-python",
   "name": "python",
   "nbconvert_exporter": "python",
   "pygments_lexer": "ipython3",
   "version": "3.11.3"
  }
 },
 "nbformat": 4,
 "nbformat_minor": 5
}
